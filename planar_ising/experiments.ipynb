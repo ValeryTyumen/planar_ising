{
 "cells": [
  {
   "cell_type": "code",
   "execution_count": 1,
   "metadata": {
    "scrolled": false
   },
   "outputs": [],
   "source": [
    "import numpy as np\n",
    "from lipton_tarjan import PlanarGraph, PlanarGraphEdges, PlanarSeparator, \\\n",
    "        PlanarGraphConstructor, PlanarGraphGenerator\n",
    "from planar_ising.expanded_dual_graph_constructor import construct\n",
    "from planar_ising.partial_spin_configuration import PartialSpinConfiguration\n",
    "from planar_ising import WilsonSampling, PlanarIsingModelGenerator, IsingInferenceAndSampling\n",
    "from planar_ising.wilson_sampling import _collapse_perfect_matching"
   ]
  },
  {
   "cell_type": "code",
   "execution_count": null,
   "metadata": {},
   "outputs": [],
   "source": [
    "g = PlanarGraphConstructor.construct_from_ordered_adjacencies(\n",
    "    [[1, 3, 2], [0, 2, 4], [1, 0, 5], [0, 4, 5], [3, 1, 5], [2, 3, 4]]\n",
    ")"
   ]
  },
  {
   "cell_type": "code",
   "execution_count": 6,
   "metadata": {},
   "outputs": [],
   "source": [
    "def output_graph(graph):\n",
    "\n",
    "    print('Adjacencies:')\n",
    "    for v in range(graph.size):\n",
    "        print('\\t{0} -> {1}'.format(v, list(zip(graph.get_adjacent_vertices(v),\n",
    "                                                graph.get_incident_edge_indices(v)))))\n",
    "\n",
    "    print('Edges:')\n",
    "    for e in range(graph.edges_count):\n",
    "        print('\\t{0} -> ({1}, {2})'.format(e, graph.edges.vertex1[e], graph.edges.vertex2[e]))"
   ]
  },
  {
   "cell_type": "code",
   "execution_count": null,
   "metadata": {},
   "outputs": [],
   "source": [
    "output_graph(g)"
   ]
  },
  {
   "cell_type": "code",
   "execution_count": null,
   "metadata": {},
   "outputs": [],
   "source": [
    "pmm = np.array([False]*9)\n",
    "pmm[1] = True\n",
    "pmm[3] = True\n",
    "pmm[8] = True"
   ]
  },
  {
   "cell_type": "code",
   "execution_count": null,
   "metadata": {},
   "outputs": [],
   "source": [
    "nvm, neim, gg = _collapse_perfect_matching(g, pmm)\n",
    "\n",
    "print(nvm)\n",
    "print(neim)\n",
    "output_graph(gg)"
   ]
  },
  {
   "cell_type": "code",
   "execution_count": 7,
   "metadata": {},
   "outputs": [],
   "source": [
    "g = PlanarGraphConstructor.construct_from_ordered_adjacencies([\n",
    "    [1, 9, 2],\n",
    "    [0, 2, 3],\n",
    "    [0, 6, 1],\n",
    "    [1, 5, 4],\n",
    "    [3, 5, 10],\n",
    "    [3, 8, 4],\n",
    "    [2, 7, 8],\n",
    "    [6, 11, 8],\n",
    "    [5, 6, 7],\n",
    "    [0, 10, 11],\n",
    "    [4, 11, 9],\n",
    "    [7, 9, 10]\n",
    "])"
   ]
  },
  {
   "cell_type": "code",
   "execution_count": 8,
   "metadata": {},
   "outputs": [
    {
     "name": "stdout",
     "output_type": "stream",
     "text": [
      "Adjacencies:\n",
      "\t0 -> [(1, 0), (9, 1), (2, 2)]\n",
      "\t1 -> [(0, 0), (2, 3), (3, 4)]\n",
      "\t2 -> [(0, 2), (6, 5), (1, 3)]\n",
      "\t3 -> [(1, 4), (5, 6), (4, 7)]\n",
      "\t4 -> [(3, 7), (5, 8), (10, 9)]\n",
      "\t5 -> [(3, 6), (8, 10), (4, 8)]\n",
      "\t6 -> [(2, 5), (7, 11), (8, 12)]\n",
      "\t7 -> [(6, 11), (11, 13), (8, 14)]\n",
      "\t8 -> [(5, 10), (6, 12), (7, 14)]\n",
      "\t9 -> [(0, 1), (10, 15), (11, 16)]\n",
      "\t10 -> [(4, 9), (11, 17), (9, 15)]\n",
      "\t11 -> [(7, 13), (9, 16), (10, 17)]\n",
      "Edges:\n",
      "\t0 -> (0, 1)\n",
      "\t1 -> (0, 9)\n",
      "\t2 -> (0, 2)\n",
      "\t3 -> (1, 2)\n",
      "\t4 -> (1, 3)\n",
      "\t5 -> (2, 6)\n",
      "\t6 -> (3, 5)\n",
      "\t7 -> (3, 4)\n",
      "\t8 -> (4, 5)\n",
      "\t9 -> (4, 10)\n",
      "\t10 -> (5, 8)\n",
      "\t11 -> (6, 7)\n",
      "\t12 -> (6, 8)\n",
      "\t13 -> (7, 11)\n",
      "\t14 -> (7, 8)\n",
      "\t15 -> (9, 10)\n",
      "\t16 -> (9, 11)\n",
      "\t17 -> (10, 11)\n"
     ]
    }
   ],
   "source": [
    "output_graph(g)"
   ]
  },
  {
   "cell_type": "code",
   "execution_count": 9,
   "metadata": {},
   "outputs": [],
   "source": [
    "pmm = np.array([False]*18)\n",
    "pmm[2] = True\n",
    "pmm[4] = True\n",
    "pmm[8] = True\n",
    "pmm[12] = True\n",
    "pmm[13] = True\n",
    "pmm[15] = True"
   ]
  },
  {
   "cell_type": "code",
   "execution_count": 10,
   "metadata": {},
   "outputs": [
    {
     "name": "stdout",
     "output_type": "stream",
     "text": [
      "[0 1 0 1 2 2 3 4 3 5 5 4]\n",
      "[ 0  1 -1  0 -1  2  3  3 -1  4  5  6 -1 -1  6 -1  7  7]\n",
      "Adjacencies:\n",
      "\t0 -> [(3, 2), (1, 0), (5, 1)]\n",
      "\t1 -> [(2, 3), (0, 0)]\n",
      "\t2 -> [(3, 5), (5, 4), (1, 3)]\n",
      "\t3 -> [(4, 6), (2, 5), (0, 2)]\n",
      "\t4 -> [(5, 7), (3, 6)]\n",
      "\t5 -> [(4, 7), (0, 1), (2, 4)]\n",
      "Edges:\n",
      "\t0 -> (0, 1)\n",
      "\t1 -> (0, 5)\n",
      "\t2 -> (0, 3)\n",
      "\t3 -> (1, 2)\n",
      "\t4 -> (2, 5)\n",
      "\t5 -> (2, 3)\n",
      "\t6 -> (3, 4)\n",
      "\t7 -> (4, 5)\n"
     ]
    }
   ],
   "source": [
    "nvm, neim, gg = _collapse_perfect_matching(g, pmm)\n",
    "\n",
    "print(nvm)\n",
    "print(neim)\n",
    "output_graph(gg)"
   ]
  },
  {
   "cell_type": "code",
   "execution_count": null,
   "metadata": {},
   "outputs": [],
   "source": []
  },
  {
   "cell_type": "code",
   "execution_count": null,
   "metadata": {},
   "outputs": [],
   "source": [
    "'''\n",
    "for size in [10, 100, 1000]:\n",
    "    for i in range(100):\n",
    "\n",
    "        g = PlanarGraphGenerator.generate_random_graph(100, 0.8)\n",
    "\n",
    "        gem, edg = construct(g)\n",
    "\n",
    "        pmm = (gem.second == -1)\n",
    "\n",
    "        _collapse_perfect_matching(edg, pmm);\n",
    "''';"
   ]
  },
  {
   "cell_type": "code",
   "execution_count": 2,
   "metadata": {},
   "outputs": [],
   "source": [
    "def test_partial_spin_configuration(size):\n",
    "\n",
    "    partial_spin_configuration = PartialSpinConfiguration(size)\n",
    "\n",
    "    components = np.arange(size)\n",
    "\n",
    "    rules = []\n",
    "    \n",
    "    for rule_index in range(size - 1):\n",
    "\n",
    "        vertex1 = np.random.choice(size)\n",
    "        component1 = components[vertex1]\n",
    "\n",
    "        component_size = (components == component1).sum()\n",
    "\n",
    "        vertex2_index = np.random.choice(size - component_size)\n",
    "\n",
    "        vertex2 = 0\n",
    "\n",
    "        for vertex2 in range(size):\n",
    "\n",
    "            if components[vertex2] == component1:\n",
    "                continue\n",
    "\n",
    "            if vertex2_index == 0:\n",
    "                break\n",
    "\n",
    "            vertex2_index -= 1\n",
    "\n",
    "        component2 = components[vertex2]\n",
    "                \n",
    "        for vertex in range(size):\n",
    "            if components[vertex] == component2:\n",
    "                components[vertex] = component1\n",
    "\n",
    "        set_equal_values = np.random.choice([True, False])\n",
    "\n",
    "        rules.append((vertex1, vertex2, set_equal_values))\n",
    "        \n",
    "        partial_spin_configuration.set_spin_pair(vertex1, vertex2, set_equal_values)\n",
    "\n",
    "        '''\n",
    "        print(vertex1, vertex2, set_equal_values)\n",
    "        print(partial_spin_configuration.spin_values)\n",
    "        print(partial_spin_configuration._component_indices)\n",
    "        print(partial_spin_configuration._next_vertices_in_components)\n",
    "        print(partial_spin_configuration._component_first_vertices)\n",
    "        '''\n",
    "\n",
    "    #print('CHECK')\n",
    "\n",
    "    for vertex1, vertex2, set_equal_values in rules:\n",
    "\n",
    "        spin_value1 = partial_spin_configuration.spin_values[vertex1]\n",
    "        spin_value2 = partial_spin_configuration.spin_values[vertex2]\n",
    "\n",
    "        if (spin_value1 == spin_value2) != set_equal_values:\n",
    "            print(vertex1, vertex2, set_equal_values)\n",
    "            print(partial_spin_configuration.spin_values)\n",
    "            return False\n",
    "\n",
    "    return True"
   ]
  },
  {
   "cell_type": "code",
   "execution_count": 15,
   "metadata": {},
   "outputs": [],
   "source": [
    "for size in [10, 100, 1000]:\n",
    "    for i in range(100):\n",
    "        if not test_partial_spin_configuration(size):\n",
    "            print('SHIEET')"
   ]
  },
  {
   "cell_type": "code",
   "execution_count": 8,
   "metadata": {},
   "outputs": [],
   "source": [
    "g = PlanarGraphConstructor.construct_from_ordered_adjacencies([\n",
    "    [1], [0]\n",
    "])"
   ]
  },
  {
   "cell_type": "code",
   "execution_count": 9,
   "metadata": {},
   "outputs": [
    {
     "data": {
      "text/plain": [
       "array([<SeparationClass.SEPARATOR: 2>, <SeparationClass.FIRST_PART: 0>], dtype=object)"
      ]
     },
     "execution_count": 9,
     "metadata": {},
     "output_type": "execute_result"
    }
   ],
   "source": [
    "PlanarSeparator.mark_separation(g)"
   ]
  },
  {
   "cell_type": "code",
   "execution_count": 3,
   "metadata": {},
   "outputs": [],
   "source": [
    "import time"
   ]
  },
  {
   "cell_type": "code",
   "execution_count": 8,
   "metadata": {},
   "outputs": [
    {
     "name": "stdout",
     "output_type": "stream",
     "text": [
      "27.859748601913452\n",
      "36.35558319091797\n"
     ]
    }
   ],
   "source": [
    "s = IsingInferenceAndSampling(m)\n",
    "start = time.time()\n",
    "s.prepare_for_sampling()\n",
    "print(time.time() - start)\n",
    "start = time.time()\n",
    "s.sample_spin_configurations(1)\n",
    "print(time.time() - start)"
   ]
  },
  {
   "cell_type": "code",
   "execution_count": 7,
   "metadata": {
    "scrolled": false
   },
   "outputs": [
    {
     "name": "stdout",
     "output_type": "stream",
     "text": [
      "20.074562549591064\n",
      "55.340888261795044\n"
     ]
    }
   ],
   "source": [
    "m = PlanarIsingModelGenerator.generate_random_model(10000, 0.8, 0.1)\n",
    "\n",
    "ws = WilsonSampling(m)\n",
    "\n",
    "start = time.time()\n",
    "ws.prepare_for_sampling()\n",
    "print(time.time() - start)\n",
    "start = time.time()\n",
    "ws.sample_spin_configurations(1)\n",
    "print(time.time() - start)"
   ]
  }
 ],
 "metadata": {
  "kernelspec": {
   "display_name": "Python 3",
   "language": "python",
   "name": "python3"
  },
  "language_info": {
   "codemirror_mode": {
    "name": "ipython",
    "version": 3
   },
   "file_extension": ".py",
   "mimetype": "text/x-python",
   "name": "python",
   "nbconvert_exporter": "python",
   "pygments_lexer": "ipython3",
   "version": "3.6.4"
  }
 },
 "nbformat": 4,
 "nbformat_minor": 2
}
