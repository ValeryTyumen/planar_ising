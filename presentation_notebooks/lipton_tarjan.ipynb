{
 "cells": [
  {
   "cell_type": "markdown",
   "metadata": {},
   "source": [
    "# Importing\n",
    "\n",
    "Importing takes some time, because Numba just-in-time precompilation is executed. This allows to speed up the code ~5-10 times."
   ]
  },
  {
   "cell_type": "code",
   "execution_count": 1,
   "metadata": {
    "scrolled": false
   },
   "outputs": [],
   "source": [
    "import numpy as np\n",
    "np.random.seed(42)\n",
    "\n",
    "from planar_ising import PlanarGraphEdges, PlanarGraph, Triangulator, \\\n",
    "        PlanarGraphGenerator, PlanarGraphConstructor\n",
    "from planar_ising.lipton_tarjan import PlanarSeparator"
   ]
  },
  {
   "cell_type": "markdown",
   "metadata": {},
   "source": [
    "# Graph creation\n",
    "\n",
    "There several ways to obtain a `PlanarGraph` instance for its further separation.\n",
    "\n",
    "The most low-level way is to use `PlanarGraph` initialization. The following code creates a \"triangle\" planar graph:"
   ]
  },
  {
   "cell_type": "code",
   "execution_count": 2,
   "metadata": {},
   "outputs": [],
   "source": [
    "# Create edges list\n",
    "edges = PlanarGraphEdges(3)\n",
    "\n",
    "# Add edges between vertices (0, 1), (1, 2) and (2, 0)\n",
    "edges.append(0, 1)\n",
    "edges.append(1, 2)\n",
    "edges.append(2, 0)\n",
    "\n",
    "# The next line is read as \"for edge 0 set edge 1 as the next when rotating\n",
    "# around vertex 0\"\n",
    "edges.set_next_edge(0, 0, 1)\n",
    "edges.set_next_edge(0, 1, 2)\n",
    "edges.set_next_edge(2, 2, 1)\n",
    "\n",
    "# For each vertex detect one edge incident to it\n",
    "incident_edge_example_indices = np.array([0, 0, 2], dtype=np.int32)\n",
    "\n",
    "# Set uniform vertex costs\n",
    "vertex_costs = np.array([1/3, 1/3, 1/3], dtype=np.float32)\n",
    "\n",
    "# Create the graph\n",
    "triangle_graph = PlanarGraph(vertex_costs, incident_edge_example_indices, edges)"
   ]
  },
  {
   "cell_type": "markdown",
   "metadata": {},
   "source": [
    "A more convenient way to define a graph is through the following helper method. We just pass a list, where for each vertex we enumerate its adjacent vertices in the order of rotation."
   ]
  },
  {
   "cell_type": "code",
   "execution_count": 3,
   "metadata": {},
   "outputs": [],
   "source": [
    "triangle_graph = PlanarGraphConstructor.construct_from_ordered_adjacencies(\n",
    "        [[1, 2], [0, 2], [0, 1]])"
   ]
  },
  {
   "cell_type": "markdown",
   "metadata": {},
   "source": [
    "Here is the code creating a 2x2 square lattice graph with 9 vertices:"
   ]
  },
  {
   "cell_type": "code",
   "execution_count": 4,
   "metadata": {},
   "outputs": [],
   "source": [
    "lattice = PlanarGraphConstructor.construct_from_ordered_adjacencies(\n",
    "        [[1, 3],\n",
    "         [2, 4, 0],\n",
    "         [5, 1],\n",
    "         [0, 4, 6],\n",
    "         [1, 5, 7, 3],\n",
    "         [2, 8, 4],\n",
    "         [3, 7],\n",
    "         [6, 4, 8],\n",
    "         [7, 5]])"
   ]
  },
  {
   "cell_type": "markdown",
   "metadata": {},
   "source": [
    "We can now take a subgraph of it, for example its face on vertices 0-1-4-3:"
   ]
  },
  {
   "cell_type": "code",
   "execution_count": 5,
   "metadata": {},
   "outputs": [
    {
     "name": "stdout",
     "output_type": "stream",
     "text": [
      "0 is adjacent to [1, 2]\n",
      "1 is adjacent to [3, 0]\n",
      "2 is adjacent to [0, 3]\n",
      "3 is adjacent to [1, 2]\n"
     ]
    }
   ],
   "source": [
    "new_vertices_mapping, new_edge_indices_mapping, square = \\\n",
    "        PlanarGraphConstructor.construct_subgraph(lattice,\n",
    "        np.array([True, True, False, True, True, False, False, False, False]),\n",
    "        np.repeat(True, 12))\n",
    "\n",
    "def output_graph(graph):\n",
    "\n",
    "    for v in range(graph.size):\n",
    "        print('{0} is adjacent to {1}'.format(v,\n",
    "                list(graph.get_adjacent_vertices(v))))\n",
    "\n",
    "# Note that vertex indices may change\n",
    "output_graph(square)"
   ]
  },
  {
   "cell_type": "markdown",
   "metadata": {},
   "source": [
    "Finally, we can generate random planar graphs (see docstrings for the generation algorithm description). Let's generate a graph on 20 vertices with density of 0.8: "
   ]
  },
  {
   "cell_type": "code",
   "execution_count": 6,
   "metadata": {},
   "outputs": [],
   "source": [
    "random_graph = PlanarGraphGenerator.generate_random_graph(20, 0.8)"
   ]
  },
  {
   "cell_type": "markdown",
   "metadata": {},
   "source": [
    "# Planar separation\n",
    "\n",
    "It's extremely simple to run Lipton-Tarjan algorithm on the planar graph instance:"
   ]
  },
  {
   "cell_type": "code",
   "execution_count": 7,
   "metadata": {},
   "outputs": [
    {
     "data": {
      "text/plain": [
       "array([<SeparationClass.SEPARATOR: 2>, <SeparationClass.SEPARATOR: 2>,\n",
       "       <SeparationClass.FIRST_PART: 0>, <SeparationClass.SEPARATOR: 2>,\n",
       "       <SeparationClass.FIRST_PART: 0>, <SeparationClass.FIRST_PART: 0>,\n",
       "       <SeparationClass.SECOND_PART: 1>, <SeparationClass.SECOND_PART: 1>,\n",
       "       <SeparationClass.FIRST_PART: 0>, <SeparationClass.FIRST_PART: 0>,\n",
       "       <SeparationClass.SEPARATOR: 2>, <SeparationClass.FIRST_PART: 0>,\n",
       "       <SeparationClass.SECOND_PART: 1>, <SeparationClass.FIRST_PART: 0>,\n",
       "       <SeparationClass.FIRST_PART: 0>, <SeparationClass.FIRST_PART: 0>,\n",
       "       <SeparationClass.FIRST_PART: 0>, <SeparationClass.SEPARATOR: 2>,\n",
       "       <SeparationClass.SEPARATOR: 2>, <SeparationClass.FIRST_PART: 0>], dtype=object)"
      ]
     },
     "execution_count": 7,
     "metadata": {},
     "output_type": "execute_result"
    }
   ],
   "source": [
    "PlanarSeparator.mark_separation(random_graph)"
   ]
  },
  {
   "cell_type": "markdown",
   "metadata": {},
   "source": [
    "# Triangulation"
   ]
  },
  {
   "cell_type": "markdown",
   "metadata": {},
   "source": [
    "Triangulation is a by-product of Lipton-Tarjan algorithm, which requires it on one of its stages. Let's generate a random tree and triangulate it:"
   ]
  },
  {
   "cell_type": "code",
   "execution_count": 8,
   "metadata": {},
   "outputs": [
    {
     "name": "stdout",
     "output_type": "stream",
     "text": [
      "0 is adjacent to [1]\n",
      "1 is adjacent to [0, 4, 2]\n",
      "2 is adjacent to [1, 3]\n",
      "3 is adjacent to [2]\n",
      "4 is adjacent to [1]\n"
     ]
    }
   ],
   "source": [
    "tree = PlanarGraphGenerator.generate_random_tree(5)\n",
    "output_graph(tree)"
   ]
  },
  {
   "cell_type": "code",
   "execution_count": 9,
   "metadata": {},
   "outputs": [
    {
     "name": "stdout",
     "output_type": "stream",
     "text": [
      "0 is adjacent to [1, 4]\n",
      "1 is adjacent to [0, 4, 2, 3, 4]\n",
      "2 is adjacent to [1, 4, 3]\n",
      "3 is adjacent to [2, 4, 1]\n",
      "4 is adjacent to [1, 0, 1, 3, 2]\n"
     ]
    }
   ],
   "source": [
    "new_edge_indices_mapping, triangulated_tree = Triangulator.triangulate(tree)\n",
    "output_graph(triangulated_tree)"
   ]
  }
 ],
 "metadata": {
  "kernelspec": {
   "display_name": "Python 3",
   "language": "python",
   "name": "python3"
  },
  "language_info": {
   "codemirror_mode": {
    "name": "ipython",
    "version": 3
   },
   "file_extension": ".py",
   "mimetype": "text/x-python",
   "name": "python",
   "nbconvert_exporter": "python",
   "pygments_lexer": "ipython3",
   "version": "3.6.4"
  }
 },
 "nbformat": 4,
 "nbformat_minor": 2
}
