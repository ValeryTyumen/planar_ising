{
 "cells": [
  {
   "cell_type": "markdown",
   "metadata": {},
   "source": [
    "# Importing\n",
    "\n",
    "Importing takes some time, because Numba just-in-time precompilation is run. This allows for significant execution time speed up."
   ]
  },
  {
   "cell_type": "code",
   "execution_count": 1,
   "metadata": {},
   "outputs": [],
   "source": [
    "import numpy as np\n",
    "from planar_ising import PlanarIsingModel, PlanarIsingModelGenerator, \\\n",
    "        IsingInferenceAndSampling\n",
    "from lipton_tarjan import PlanarGraphConstructor\n",
    "\n",
    "np.random.seed(42)"
   ]
  },
  {
   "cell_type": "markdown",
   "metadata": {},
   "source": [
    "# Model creation\n",
    "\n",
    "To create the model, you can use `PlanarIsingModel` class directly. The next cell creates a Ising Model with triangle topology and interaction values of 1:"
   ]
  },
  {
   "cell_type": "code",
   "execution_count": 2,
   "metadata": {},
   "outputs": [],
   "source": [
    "# For information on `PlanarGraphConstructor` refer to `lipton_tarjan` repository\n",
    "graph = PlanarGraphConstructor.construct_from_ordered_adjacencies(\n",
    "        [[1, 2], [0, 2], [0, 1]])\n",
    "interaction_values = np.ones(3, dtype=np.float64)\n",
    "\n",
    "model = PlanarIsingModel(graph, interaction_values)"
   ]
  },
  {
   "cell_type": "markdown",
   "metadata": {},
   "source": [
    "Now you can find energy of any spin configuration, e.g.:"
   ]
  },
  {
   "cell_type": "code",
   "execution_count": 3,
   "metadata": {},
   "outputs": [
    {
     "data": {
      "text/plain": [
       "-1.0"
      ]
     },
     "execution_count": 3,
     "metadata": {},
     "output_type": "execute_result"
    }
   ],
   "source": [
    "model.get_minus_energy(np.array([-1, 1, 1]))"
   ]
  },
  {
   "cell_type": "markdown",
   "metadata": {},
   "source": [
    "Another way to create model is to generate it randomly. Let's generate Planar Ising Model with graph density of 0.8 and interaction values standard error of 0.1:"
   ]
  },
  {
   "cell_type": "code",
   "execution_count": 4,
   "metadata": {},
   "outputs": [],
   "source": [
    "model = PlanarIsingModelGenerator.generate_random_model(10, 0.8, 0.1)"
   ]
  },
  {
   "cell_type": "markdown",
   "metadata": {},
   "source": [
    "# Inference\n",
    "\n",
    "The next cell computes partition function of the `model`:"
   ]
  },
  {
   "cell_type": "code",
   "execution_count": 5,
   "metadata": {},
   "outputs": [
    {
     "data": {
      "text/plain": [
       "6.999407749377325"
      ]
     },
     "execution_count": 5,
     "metadata": {},
     "output_type": "execute_result"
    }
   ],
   "source": [
    "ising_inference_and_sampling = IsingInferenceAndSampling(model)\n",
    "ising_inference_and_sampling.compute_log_partition_function()"
   ]
  },
  {
   "cell_type": "markdown",
   "metadata": {},
   "source": [
    "# Sampling\n",
    "\n",
    "To run sampling, we first need to precompute required data structures with `prepare_for_sampling` method."
   ]
  },
  {
   "cell_type": "code",
   "execution_count": 6,
   "metadata": {},
   "outputs": [],
   "source": [
    "ising_inference_and_sampling.prepare_for_sampling()"
   ]
  },
  {
   "cell_type": "markdown",
   "metadata": {},
   "source": [
    "To get 10 random spin configurations simply"
   ]
  },
  {
   "cell_type": "code",
   "execution_count": 7,
   "metadata": {},
   "outputs": [
    {
     "data": {
      "text/plain": [
       "array([[-1,  1,  1,  1,  1, -1, -1,  1, -1,  1],\n",
       "       [-1, -1, -1,  1, -1, -1, -1, -1,  1,  1],\n",
       "       [-1, -1,  1,  1,  1,  1, -1,  1, -1,  1],\n",
       "       [ 1, -1, -1,  1, -1, -1, -1,  1, -1,  1],\n",
       "       [ 1,  1,  1,  1,  1, -1,  1, -1, -1,  1],\n",
       "       [-1,  1, -1, -1, -1,  1, -1,  1,  1, -1],\n",
       "       [ 1, -1,  1,  1,  1, -1,  1,  1, -1, -1],\n",
       "       [-1, -1,  1,  1, -1,  1, -1,  1, -1,  1],\n",
       "       [ 1,  1, -1,  1,  1,  1,  1, -1,  1,  1],\n",
       "       [-1, -1,  1, -1, -1,  1,  1,  1, -1,  1]], dtype=int32)"
      ]
     },
     "execution_count": 7,
     "metadata": {},
     "output_type": "execute_result"
    }
   ],
   "source": [
    "ising_inference_and_sampling.sample_spin_configurations(10)"
   ]
  }
 ],
 "metadata": {
  "kernelspec": {
   "display_name": "Python 3",
   "language": "python",
   "name": "python3"
  },
  "language_info": {
   "codemirror_mode": {
    "name": "ipython",
    "version": 3
   },
   "file_extension": ".py",
   "mimetype": "text/x-python",
   "name": "python",
   "nbconvert_exporter": "python",
   "pygments_lexer": "ipython3",
   "version": "3.6.4"
  }
 },
 "nbformat": 4,
 "nbformat_minor": 2
}
