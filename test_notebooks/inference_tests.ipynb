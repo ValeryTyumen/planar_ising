{
 "cells": [
  {
   "cell_type": "markdown",
   "metadata": {},
   "source": [
    "# Inference implementation tests"
   ]
  },
  {
   "cell_type": "code",
   "execution_count": 1,
   "metadata": {
    "scrolled": false
   },
   "outputs": [],
   "source": [
    "%matplotlib inline\n",
    "import numpy as np\n",
    "from matplotlib import pyplot as plt\n",
    "import re\n",
    "import subprocess\n",
    "import datetime\n",
    "from planar_ising import PlanarIsingModelGenerator, EfficientInferenceAndSampling, \\\n",
    "        WilsonInferenceAndSampling\n",
    "\n",
    "np.random.seed(42)"
   ]
  },
  {
   "cell_type": "markdown",
   "metadata": {},
   "source": [
    "# Problem statement\n",
    "\n",
    "Let $V = \\{ 1, ..., N \\}, E \\subseteq \\binom{V}{2}, G = (V, E)$ be an undirected planar graph. For each $v \\in V$ we assign a random binary variable (a spin) $s_v \\in \\{ -1, +1 \\}$, $S = (s_1, ..., s_N)$. For each $e \\in E$ we define a number $J_e \\in \\mathbb{R}$. We define a probability of the assignment $X = (x_1, ..., x_N) \\in \\{ -1, +1 \\}^N$ as follows:\n",
    "\n",
    "\\begin{equation}\n",
    "\\mathbb{P} (S = X) = \\frac{1}{Z} \\exp{ \\sum_{e = \\{i, j\\} \\in E} J_e x_i x_j }\n",
    "\\label{eq:distr}\n",
    "\\end{equation}\n",
    "\n",
    "Where\n",
    "\n",
    "\\begin{equation}\n",
    "Z = \\sum_{X \\in \\{ -1, +1 \\}^N} \\exp{ \\sum_{e = \\{i, j\\} \\in E} J_e x_i x_j }\n",
    "\\end{equation}\n",
    "\n",
    "Given $G$'s plane embedding and a set of $J_e$, a goal is to find $Z$ efficiently.\n",
    "\n",
    "In all the experiments conducted further we work with the following model generating parameters (check `PlanarIsingModelGenerator` docstrings):"
   ]
  },
  {
   "cell_type": "code",
   "execution_count": 2,
   "metadata": {},
   "outputs": [],
   "source": [
    "graph_density = 1.0\n",
    "interaction_values_std = 0.1"
   ]
  },
  {
   "cell_type": "markdown",
   "metadata": {},
   "source": [
    "# Correctness of implementation\n",
    "\n",
    "We will test two slightly different inference/sampling algorithms - `EfficientInferenceAndSampling` and `WilsonInferenceAndSampling`. Both are numerically correct, but the first one tends to draw samples faster on practice.\n",
    "\n",
    "To prove correctness of partition function, we test the computed value against Kac-Ward approach [1, Theorem 1]. It is relatively simple to implement, and this is what the next cell does. The disadvantage of the approach is that it results in $O(| V |^3)$ time complexity, while our algorithm is $O(| V |^{\\frac32})$.\n",
    "\n",
    "Kac-Ward approach requires a straight line embedding of $G$. To find that, we use `straightline` executable borrowed from [here](https://github.com/jeffythedragonslayer/lipton-tarjan)."
   ]
  },
  {
   "cell_type": "code",
   "execution_count": 3,
   "metadata": {},
   "outputs": [],
   "source": [
    "def compute_log_partition_function_kac_ward(ising_model):\n",
    "\n",
    "    embedding_points = get_embedding_points(ising_model.graph)\n",
    "    interactions_matrix = get_interactions_matrix(ising_model)\n",
    "\n",
    "    spins_count = ising_model.graph.size\n",
    "\n",
    "    kac_ward_matrix = get_kac_ward_matrix(embedding_points, interactions_matrix)\n",
    "\n",
    "    _, kac_ward_det_log = np.linalg.slogdet(kac_ward_matrix)\n",
    "\n",
    "    pairwise_interaction_coshs = np.cosh(interactions_matrix[np.triu_indices(spins_count)])\n",
    "\n",
    "    return np.log(2)*spins_count + kac_ward_det_log/2 + \\\n",
    "            np.log(pairwise_interaction_coshs).sum()\n",
    "\n",
    "def get_embedding_points(graph):\n",
    "\n",
    "    edge_list_filename = 'edgelist.tmp'\n",
    "    embedding_filename = 'embedding.tmp'\n",
    "    embedding_command = './straightline {}'.format(edge_list_filename)\n",
    "\n",
    "    edge_list_lines = []\n",
    "\n",
    "    for vertex in range(graph.size):\n",
    "        for adjacent_vertex in graph.get_adjacent_vertices(vertex):\n",
    "            if vertex < adjacent_vertex:\n",
    "                edge_list_lines.append('{0}, {1}'.format(vertex, adjacent_vertex))\n",
    "\n",
    "    with open(edge_list_filename, 'w') as edge_list_file:\n",
    "        edge_list_file.write('\\n'.join(edge_list_lines))\n",
    "\n",
    "    with open(embedding_filename, 'w') as embedding_file:\n",
    "        subprocess.run(embedding_command.split(), stdout=embedding_file)\n",
    "\n",
    "    pattern = re.compile(r'^\\d+\\[pos\\=\\\"(\\d+)\\,(\\d+)\\!\\\"\\]\\;')\n",
    "\n",
    "    embedding_points = []\n",
    "\n",
    "    with open(embedding_filename, 'r') as embedding_file:\n",
    "        for line in embedding_file:\n",
    "\n",
    "            match = pattern.match(line)\n",
    "\n",
    "            if match is None:\n",
    "                continue\n",
    "\n",
    "            embedding_points.append([float(match[1]), float(match[2])])\n",
    "\n",
    "            if len(embedding_points) == graph.size:\n",
    "                break\n",
    "\n",
    "    return np.asarray(embedding_points)\n",
    "\n",
    "def get_interactions_matrix(ising_model):\n",
    "\n",
    "    graph = ising_model.graph\n",
    "    interaction_values = ising_model.interaction_values\n",
    "\n",
    "    interactions_matrix = np.zeros((graph.size, graph.size), dtype=np.float64)\n",
    "\n",
    "    interactions_matrix[graph.edges.vertex1, graph.edges.vertex2] = interaction_values\n",
    "    interactions_matrix[graph.edges.vertex2, graph.edges.vertex1] = interaction_values\n",
    "\n",
    "    return interactions_matrix\n",
    "\n",
    "def get_kac_ward_matrix(embedding_points, interactions_matrix):\n",
    "\n",
    "    spins_count = len(embedding_points)\n",
    "\n",
    "    directed_edge_indices = {edge:i for i, edge in \\\n",
    "            enumerate(zip(*np.where(interactions_matrix != 0)))}\n",
    "    directed_edges_count = len(directed_edge_indices)\n",
    "\n",
    "    kac_ward_matrix = np.zeros((directed_edges_count, directed_edges_count),\n",
    "                               dtype=np.complex128)\n",
    "\n",
    "    for spin_index1 in range(spins_count):\n",
    "\n",
    "        for spin_index2 in range(spins_count):\n",
    "\n",
    "            if interactions_matrix[spin_index1, spin_index2] == 0:\n",
    "                continue\n",
    "\n",
    "            directed_edge_index1 = directed_edge_indices[(spin_index1, spin_index2)]\n",
    "\n",
    "            kac_ward_matrix[directed_edge_index1, directed_edge_index1] = 1\n",
    "\n",
    "            for spin_index3 in range(spins_count):\n",
    "\n",
    "                if interactions_matrix[spin_index2, spin_index3] == 0:\n",
    "                    continue\n",
    "\n",
    "                if spin_index1 == spin_index3:\n",
    "                    continue\n",
    "\n",
    "                point1 = embedding_points[spin_index1]\n",
    "                point2 = embedding_points[spin_index2]\n",
    "                point3 = embedding_points[spin_index3]\n",
    "\n",
    "                half_rotation_number = get_half_rotation_complex_number(point1, point2,\n",
    "                        point3)\n",
    "\n",
    "                directed_edge_index2 = directed_edge_indices[(spin_index2, spin_index3)]\n",
    "\n",
    "                kac_ward_matrix[directed_edge_index1, directed_edge_index2] = \\\n",
    "                        -half_rotation_number*\\\n",
    "                        np.tanh(interactions_matrix[spin_index2, spin_index3])\n",
    "\n",
    "    return kac_ward_matrix\n",
    "\n",
    "def get_half_rotation_complex_number(point1, point2, point3):\n",
    "\n",
    "    vector1 = point2 - point1\n",
    "    vector2 = point3 - point2\n",
    "\n",
    "    dot_product = (vector1*vector2).sum()\n",
    "    cross_product_z = vector1[0]*vector2[1] - vector1[1]*vector2[0]\n",
    "\n",
    "    angle_cos = dot_product/(np.linalg.norm(vector1)*np.linalg.norm(vector2))\n",
    "    half_angle_cos = np.sqrt((1 + angle_cos)/2)\n",
    "    half_angle_sin = -np.sign(cross_product_z)*np.sqrt((1 - angle_cos)/2)\n",
    "\n",
    "    return half_angle_cos + 1j*half_angle_sin"
   ]
  },
  {
   "cell_type": "markdown",
   "metadata": {},
   "source": [
    "For a given model let $Z$ be a partition function computed by our algorithm and $Z'$ - by Kac-Ward approach. Then we define a relative error of our approach as $\\frac{| \\log Z - \\log Z' |}{| \\log Z' |}$.\n",
    "\n",
    "The next cell generates Planar Ising Models of different size and computes relative error for them. Then errors are drawn as a scatter plot depending on the model size. One can observe that the error values are small enough to consider partition function values as correct.\n",
    "\n",
    "Runtime warnings in the output are related to determinant computations in Kac-Ward approach, which suffers from numerical instabilities."
   ]
  },
  {
   "cell_type": "code",
   "execution_count": 4,
   "metadata": {},
   "outputs": [
    {
     "name": "stderr",
     "output_type": "stream",
     "text": [
      "/home/valera/anaconda3/lib/python3.6/site-packages/ipykernel_launcher.py:118: RuntimeWarning: invalid value encountered in sqrt\n",
      "/home/valera/anaconda3/lib/python3.6/site-packages/numpy/linalg/linalg.py:1741: RuntimeWarning: invalid value encountered in slogdet\n",
      "  sign, logdet = _umath_linalg.slogdet(a, signature=signature)\n",
      "/home/valera/anaconda3/lib/python3.6/site-packages/ipykernel_launcher.py:24: RuntimeWarning: invalid value encountered in double_scalars\n",
      "/home/valera/anaconda3/lib/python3.6/site-packages/ipykernel_launcher.py:28: RuntimeWarning: divide by zero encountered in log10\n"
     ]
    },
    {
     "data": {
      "image/png": "[encoded data removed]",
      "text/plain": [
       "<matplotlib.figure.Figure at 0x7fe7248d5588>"
      ]
     },
     "metadata": {},
     "output_type": "display_data"
    }
   ],
   "source": [
    "graph_sizes = np.arange(5, 105, 5)\n",
    "samples_count = 20\n",
    "\n",
    "for method, color, label in [(EfficientInferenceAndSampling, 'r', 'efficient'),\n",
    "                             (WilsonInferenceAndSampling, 'b', 'wilson')]:\n",
    "\n",
    "    graph_sizes_per_sample = []\n",
    "    relative_errors_per_sample = []\n",
    "\n",
    "    for graph_size in graph_sizes:\n",
    "\n",
    "        for sample_index in range(samples_count):\n",
    "\n",
    "            graph_sizes_per_sample.append(graph_size)\n",
    "\n",
    "            ising_model = PlanarIsingModelGenerator.generate_random_model(graph_size,\n",
    "                    graph_density, interaction_values_std)\n",
    "\n",
    "            kac_ward_log_partition_function = \\\n",
    "                    compute_log_partition_function_kac_ward(ising_model)\n",
    "\n",
    "            ising_inference = method(ising_model)\n",
    "            log_partition_function = ising_inference.compute_log_partition_function()\n",
    "\n",
    "            relative_error = np.absolute((kac_ward_log_partition_function - \\\n",
    "                    float(log_partition_function))/kac_ward_log_partition_function)\n",
    "\n",
    "            relative_errors_per_sample.append(relative_error)\n",
    "\n",
    "    plt.scatter(graph_sizes_per_sample, np.log10(relative_errors_per_sample), s=10,\n",
    "                c=color, label=label)\n",
    "    plt.title('Relative error w.r.t. Kac-Ward')\n",
    "    plt.ylabel('$\\log_{10} (error)$')\n",
    "    plt.xlabel('size')\n",
    "\n",
    "plt.legend()\n",
    "plt.show()"
   ]
  },
  {
   "cell_type": "markdown",
   "metadata": {},
   "source": [
    "# Execution time\n",
    "\n",
    "The following cell generates Planar Ising Models of different size and measures the time of partition function computation. Then benchmarks are drawn on the scatter plot with model's size on x axis. Logarithmic axes clearly illustrate $O(N^{\\frac32})$ time complexity of the algorithm."
   ]
  },
  {
   "cell_type": "code",
   "execution_count": 5,
   "metadata": {},
   "outputs": [
    {
     "name": "stdout",
     "output_type": "stream",
     "text": [
      "Done with size 512\n",
      "Done with size 1024\n",
      "Done with size 2048\n",
      "Done with size 4096\n",
      "Done with size 512\n",
      "Done with size 1024\n",
      "Done with size 2048\n",
      "Done with size 4096\n"
     ]
    },
    {
     "data": {
      "image/png": "[encoded data removed]",
      "text/plain": [
       "<matplotlib.figure.Figure at 0x7fe724e4cfd0>"
      ]
     },
     "metadata": {},
     "output_type": "display_data"
    }
   ],
   "source": [
    "log2_graph_sizes = np.arange(2, 13)\n",
    "samples_count = 5\n",
    "\n",
    "plt.figure(figsize=(9, 6))\n",
    "\n",
    "for method, color, label in [(EfficientInferenceAndSampling, 'r', 'efficient'),\n",
    "                             (WilsonInferenceAndSampling, 'b', 'wilson')]:\n",
    "\n",
    "    log2_graph_sizes_per_sample = []\n",
    "    execution_times_per_samples = []\n",
    "\n",
    "    for log2_graph_size in log2_graph_sizes:\n",
    "\n",
    "        graph_size = 2**log2_graph_size\n",
    "\n",
    "        for sample_index in range(samples_count):\n",
    "\n",
    "            log2_graph_sizes_per_sample.append(log2_graph_size)\n",
    "\n",
    "            ising_model = PlanarIsingModelGenerator.generate_random_model(graph_size,\n",
    "                    graph_density, interaction_values_std)\n",
    "\n",
    "            start_moment = datetime.datetime.now()\n",
    "\n",
    "            ising_inference = method(ising_model)\n",
    "            ising_inference.compute_log_partition_function()\n",
    "\n",
    "            execution_time = (datetime.datetime.now() - start_moment).total_seconds()\n",
    "\n",
    "            execution_times_per_samples.append(execution_time)\n",
    "\n",
    "        if log2_graph_size > 8:\n",
    "            print('Done with size {}'.format(graph_size))\n",
    "\n",
    "    plt.scatter(log2_graph_sizes_per_sample, np.log2(execution_times_per_samples),\n",
    "            c=color, s=8, label=label)\n",
    "\n",
    "plt.plot(log2_graph_sizes, 3*log2_graph_sizes - 10, '--', label='$O(N^3)$')\n",
    "plt.plot(log2_graph_sizes, 1.5*log2_graph_sizes - 10, '--', label='$O(N^{1.5})$')\n",
    "\n",
    "plt.title('Execution time')\n",
    "plt.xlabel('$\\log_2 N$')\n",
    "plt.ylabel('$\\log_2 (sec.)$')\n",
    "plt.legend()\n",
    "\n",
    "plt.legend()\n",
    "plt.show()"
   ]
  },
  {
   "cell_type": "markdown",
   "metadata": {},
   "source": [
    "# References\n",
    "\n",
    "[1] - J. K. Johnson, D. Oyen, M. Chertkov, and P. Netrapalli, \"Learning planar ising models\", J. Mach. Learn. Res., vol. 17, pp. 7539–7564, Jan. 2016."
   ]
  }
 ],
 "metadata": {
  "kernelspec": {
   "display_name": "Python 3",
   "language": "python",
   "name": "python3"
  },
  "language_info": {
   "codemirror_mode": {
    "name": "ipython",
    "version": 3
   },
   "file_extension": ".py",
   "mimetype": "text/x-python",
   "name": "python",
   "nbconvert_exporter": "python",
   "pygments_lexer": "ipython3",
   "version": "3.6.4"
  }
 },
 "nbformat": 4,
 "nbformat_minor": 2
}
